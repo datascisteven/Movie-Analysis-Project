{
 "metadata": {
  "language_info": {
   "codemirror_mode": {
    "name": "ipython",
    "version": 3
   },
   "file_extension": ".py",
   "mimetype": "text/x-python",
   "name": "python",
   "nbconvert_exporter": "python",
   "pygments_lexer": "ipython3",
   "version": "3.9.1-final"
  },
  "orig_nbformat": 2,
  "kernelspec": {
   "name": "python3",
   "display_name": "Python 3.9.1 64-bit ('learn-env': conda)",
   "metadata": {
    "interpreter": {
     "hash": "80773cdecc613a186b9eac051636553d2ff0f99c57590601666ed713bd5d0256"
    }
   }
  }
 },
 "nbformat": 4,
 "nbformat_minor": 2,
 "cells": [
  {
   "source": [
    "# Data Analysis\n",
    "\n",
    "At this point, we were ready to begin our analysis of the data.  We wanted ultimately to make recommendations to the Microsoft Team about which genre and release month is best for their next movie production.  The main two questions we want to answer are: what is the best genre for their next movie production?  what month should they release their next movie production?\n",
    "\n",
    "In recommending the best genre, we will look at the distribution of genre films in our database, as well as analyzing the average gross revenue, average IMDB ratings, and average TMDB popularity per genre.\n",
    "\n",
    "In recommending the release month, we plan to analyze the average gross revenue per month per genre. We conjecture that horror movies would have the most revenue around the months surrounding Halloween, but we will make a recommendation based on the data."
   ],
   "cell_type": "markdown",
   "metadata": {}
  },
  {
   "source": [
    "## Distribution of Gross Revenue\n",
    "\n",
    "We looked at the distribution of gross revenues to determine whether the median or mean value would be a better measure of central tendency.  Based on the data below, we determined that the median values would be a better measure since it is a skewed distribution."
   ],
   "cell_type": "markdown",
   "metadata": {}
  },
  {
   "cell_type": "code",
   "execution_count": 3,
   "metadata": {},
   "outputs": [],
   "source": [
    "import seaborn as sns\n",
    "import matplotlib.pyplot as plt\n",
    "import pandas as pd\n",
    "sns.set_context(\"poster\")\n",
    "sns.set_style(\"darkgrid\")"
   ]
  },
  {
   "cell_type": "code",
   "execution_count": 4,
   "metadata": {},
   "outputs": [],
   "source": [
    "combined = pd.read_csv(\"data/combined.csv\")"
   ]
  },
  {
   "cell_type": "code",
   "execution_count": 15,
   "metadata": {},
   "outputs": [],
   "source": [
    "# fig = plt.figure(figsize = (20, 10))\n",
    "# sns.distplot(combined.gross_us) \n",
    "# plt.title(\"Distribution of Gross Revenue\")\n",
    "# plt.xlabel(\"Gross Revenue ($M)\")\n",
    "# plt.savefig(\"images/gross_earnings_distribution.jpg\")\n",
    "# plt.show()"
   ]
  },
  {
   "source": [
    "<img src=\"images/gross_earnings_distribution.jpg\">"
   ],
   "cell_type": "markdown",
   "metadata": {}
  },
  {
   "source": [
    "## Distribution of Films by Genre\n",
    "\n",
    "We looked at the distribution of films by genre to get an initial sense of the sheer number of how much of each genre of movies has been produced.  Based on the data below, the top 3 genres are drama, thriller, and comedy."
   ],
   "cell_type": "markdown",
   "metadata": {}
  },
  {
   "cell_type": "code",
   "execution_count": 6,
   "metadata": {},
   "outputs": [
    {
     "output_type": "execute_result",
     "data": {
      "text/plain": [
       "                           genre_ids  popularity release_date  \\\n",
       "0                 ['Drama', 'Crime']      43.166   1994-09-23   \n",
       "1                 ['Drama', 'Crime']      37.301   1972-03-14   \n",
       "2        ['Drama', 'History', 'War']      27.598   1993-11-30   \n",
       "3  ['Romance', 'Animation', 'Drama']     108.690   2016-08-26   \n",
       "4                 ['Drama', 'Crime']      29.973   1974-12-20   \n",
       "\n",
       "                      title  year pg_rating  imdb_id  runtime  \\\n",
       "0  The Shawshank Redemption  1994         R   111161      142   \n",
       "1             The Godfather  1972         R    68646      175   \n",
       "2          Schindler's List  1993         R   108052      195   \n",
       "3                Your Name.  2016        PG  5311514      106   \n",
       "4    The Godfather: Part II  1974         R    71562      202   \n",
       "\n",
       "                       genre  imdb_rating    votes  gross_us  month  \n",
       "0                      Drama          9.3  2353109     28.34      9  \n",
       "1               Crime, Drama          9.2  1628373    134.97      3  \n",
       "2  Biography, Drama, History          8.9  1218144     96.90     11  \n",
       "3  Animation, Drama, Fantasy          8.4   197768      5.02      8  \n",
       "4               Crime, Drama          9.0  1134978     57.30     12  "
      ],
      "text/html": "<div>\n<style scoped>\n    .dataframe tbody tr th:only-of-type {\n        vertical-align: middle;\n    }\n\n    .dataframe tbody tr th {\n        vertical-align: top;\n    }\n\n    .dataframe thead th {\n        text-align: right;\n    }\n</style>\n<table border=\"1\" class=\"dataframe\">\n  <thead>\n    <tr style=\"text-align: right;\">\n      <th></th>\n      <th>genre_ids</th>\n      <th>popularity</th>\n      <th>release_date</th>\n      <th>title</th>\n      <th>year</th>\n      <th>pg_rating</th>\n      <th>imdb_id</th>\n      <th>runtime</th>\n      <th>genre</th>\n      <th>imdb_rating</th>\n      <th>votes</th>\n      <th>gross_us</th>\n      <th>month</th>\n    </tr>\n  </thead>\n  <tbody>\n    <tr>\n      <th>0</th>\n      <td>['Drama', 'Crime']</td>\n      <td>43.166</td>\n      <td>1994-09-23</td>\n      <td>The Shawshank Redemption</td>\n      <td>1994</td>\n      <td>R</td>\n      <td>111161</td>\n      <td>142</td>\n      <td>Drama</td>\n      <td>9.3</td>\n      <td>2353109</td>\n      <td>28.34</td>\n      <td>9</td>\n    </tr>\n    <tr>\n      <th>1</th>\n      <td>['Drama', 'Crime']</td>\n      <td>37.301</td>\n      <td>1972-03-14</td>\n      <td>The Godfather</td>\n      <td>1972</td>\n      <td>R</td>\n      <td>68646</td>\n      <td>175</td>\n      <td>Crime, Drama</td>\n      <td>9.2</td>\n      <td>1628373</td>\n      <td>134.97</td>\n      <td>3</td>\n    </tr>\n    <tr>\n      <th>2</th>\n      <td>['Drama', 'History', 'War']</td>\n      <td>27.598</td>\n      <td>1993-11-30</td>\n      <td>Schindler's List</td>\n      <td>1993</td>\n      <td>R</td>\n      <td>108052</td>\n      <td>195</td>\n      <td>Biography, Drama, History</td>\n      <td>8.9</td>\n      <td>1218144</td>\n      <td>96.90</td>\n      <td>11</td>\n    </tr>\n    <tr>\n      <th>3</th>\n      <td>['Romance', 'Animation', 'Drama']</td>\n      <td>108.690</td>\n      <td>2016-08-26</td>\n      <td>Your Name.</td>\n      <td>2016</td>\n      <td>PG</td>\n      <td>5311514</td>\n      <td>106</td>\n      <td>Animation, Drama, Fantasy</td>\n      <td>8.4</td>\n      <td>197768</td>\n      <td>5.02</td>\n      <td>8</td>\n    </tr>\n    <tr>\n      <th>4</th>\n      <td>['Drama', 'Crime']</td>\n      <td>29.973</td>\n      <td>1974-12-20</td>\n      <td>The Godfather: Part II</td>\n      <td>1974</td>\n      <td>R</td>\n      <td>71562</td>\n      <td>202</td>\n      <td>Crime, Drama</td>\n      <td>9.0</td>\n      <td>1134978</td>\n      <td>57.30</td>\n      <td>12</td>\n    </tr>\n  </tbody>\n</table>\n</div>"
     },
     "metadata": {},
     "execution_count": 6
    }
   ],
   "source": [
    "combo = combined.explode('genre_ids')\n",
    "combo.head()"
   ]
  },
  {
   "cell_type": "code",
   "execution_count": 9,
   "metadata": {},
   "outputs": [
    {
     "output_type": "execute_result",
     "data": {
      "text/plain": [
       "858.37"
      ]
     },
     "metadata": {},
     "execution_count": 9
    }
   ],
   "source": [
    "combo.gross_us.max()"
   ]
  },
  {
   "cell_type": "code",
   "execution_count": 12,
   "metadata": {},
   "outputs": [],
   "source": [
    "# Y = combo.genre_ids.value_counts(normalize = True)\n",
    "# X = Y.index\n",
    "# fig = plt.figure(figsize = (20, 12))\n",
    "# g = sns.barplot(X, Y, palette = \"Set2\")\n",
    "# g.set(title = 'Distribution of Genres', ylabel = \"Proportion\", xlabel = \"Genre\")\n",
    "# plt.xticks(rotation=90, ha='right')\n",
    "# plt.tight_layout()\n",
    "# fig.savefig(\"images/Distribution_genre.png\")\n",
    "# plt.show()"
   ]
  },
  {
   "source": [
    "<img src=\"images/Distribution_genre.png\">"
   ],
   "cell_type": "markdown",
   "metadata": {}
  },
  {
   "source": [
    "## Median Gross Revenue per Genre\n",
    "\n",
    "We looked at the median gross revenue per genre to determine which genre was generating the most revenue at the box office. The two highest revenue generating genres are Adventure and Family."
   ],
   "cell_type": "markdown",
   "metadata": {}
  },
  {
   "cell_type": "code",
   "execution_count": 14,
   "metadata": {},
   "outputs": [],
   "source": [
    "# fig = plt.figure(figsize = (20, 10))\n",
    "# g = sns.boxplot(x = 'genre_ids', y = 'gross_us', data = combo, \n",
    "#                 showfliers = False, palette=\"Set2\", linewidth = 5, fliersize= 1.5 )\n",
    "# g.set(title = 'Median Gross Revenue per Genre', \n",
    "#       ylabel = \"Median Gross Revenue ($M)\", xlabel = \"Genre\")\n",
    "# plt.axhline(combo.gross_us.median(), ls='--', lw = 1, color = 'black')\n",
    "# plt.xticks(rotation=90, ha='right')\n",
    "# plt.tight_layout()\n",
    "# fig.savefig(\"images/Median_Gross_Earnings.png\")\n",
    "# plt.show()"
   ]
  },
  {
   "source": [
    "<img src=\"images/Median_Gross_Earnings.png\">"
   ],
   "cell_type": "markdown",
   "metadata": {}
  },
  {
   "source": [
    "## Average IMDB Ratings Per Genre"
   ],
   "cell_type": "markdown",
   "metadata": {}
  },
  {
   "cell_type": "code",
   "execution_count": null,
   "metadata": {},
   "outputs": [],
   "source": [
    "# fig = plt.figure(figsize = (20, 10))\n",
    "# g = sns.boxplot(x = 'genre_ids', y = 'imdb_rating', data = combo, \n",
    "#                 showfliers = False, palette=\"Set2\", linewidth = 5, fliersize= 1.5 )\n",
    "# g.set(title = 'Average IMDB Ratings per Genre', \n",
    "#       ylabel = \"Average IMDB Ratings\", xlabel = \"Genre\")\n",
    "# plt.axhline(combo.imdb_rating.mean(), ls='--', lw = 1, color = 'black')\n",
    "# plt.xticks(rotation=90, ha='right')\n",
    "# plt.tight_layout()\n",
    "# fig.savefig(\"Average_IMDB_Ratings.png\")\n",
    "# plt.show()"
   ]
  },
  {
   "source": [
    "<img src=\"images/Average_IMDB_Ratings.png\">"
   ],
   "cell_type": "markdown",
   "metadata": {}
  },
  {
   "source": [
    "## Average TMDB Popularity per Genre\n",
    "\n",
    "We looked at the average TMDB popularity per genre to determine what genre of movie was receiving the highest popularity ratings on TMDB. The genres of Animation and Family have the highest popularity ratings given by movie watchers on that site."
   ],
   "cell_type": "markdown",
   "metadata": {}
  },
  {
   "cell_type": "code",
   "execution_count": null,
   "metadata": {},
   "outputs": [],
   "source": [
    "# fig = plt.figure(figsize = (20, 10))\n",
    "# g = sns.boxplot(x = 'genre_ids', y = 'popularity', data = combo, \n",
    "#                 showfliers = False, palette=\"Set2\", linewidth = 5, fliersize= 1.5 )\n",
    "# g.set(title = 'Average TMDB Popularity per Genre', \n",
    "#       ylabel = \"Average TMDB Popularity\", xlabel = \"Genre\")\n",
    "# plt.axhline(combo.popularity.mean(), ls='--', lw = 1, color = 'black')\n",
    "# plt.xticks(rotation=90, ha='right')\n",
    "# plt.tight_layout()\n",
    "# fig.savefig(\"Average_TMDB_Popularity.png\")\n",
    "# plt.show()"
   ]
  },
  {
   "source": [
    "<img src=\"images/Average_TMDB_Popularity.png\">"
   ],
   "cell_type": "markdown",
   "metadata": {}
  },
  {
   "source": [
    "## Median Gross Earnings Per Month for each Genre\n",
    "\n",
    "We wanted to make a recommendation for release month to Microsoft using our data.  Based on our findings on a preferred genre, we can look for the month with the highest median gross earning for that genre. We could also find the highest revenue-generating genre for each month.\n",
    "\n",
    "### Highest revenue-generating genre for each month:\n",
    "\n",
    "- Jan: War (60)\n",
    "- Feb: Adventure (250)\n",
    "- Mar: Family (200)\n",
    "- Apr: SciFi, Adventure (400)\n",
    "- May: Animation, Family (250)\n",
    "- Jun: Family, Fantasy, Animation (200)\n",
    "- Jul: Adventure, Action, War (200)\n",
    "- Aug: Music (160)\n",
    "- Sep: Western (50)\n",
    "- Oct: Fantasy, Adventure (200)\n",
    "- Nov: Animation, Family, Adventure (200)\n",
    "- Dec: SciFi, Adventure (200)\n",
    "\n",
    "### Month of highest revenues for each genre:\n",
    "\n",
    "- Western: Mar\n",
    "- War: Jul\n",
    "- SciFi: Apr\n",
    "- Family: May\n",
    "- Adventure: Apr\n",
    "- Action: Jul\n",
    "- Fantasy: Oct"
   ],
   "cell_type": "markdown",
   "metadata": {}
  },
  {
   "cell_type": "code",
   "execution_count": null,
   "metadata": {},
   "outputs": [],
   "source": [
    "combo_2 = combo[combo.genre_ids != 'TV Movie']"
   ]
  },
  {
   "cell_type": "code",
   "execution_count": null,
   "metadata": {},
   "outputs": [],
   "source": [
    "\n",
    "# month_genre_gross_median = combo_2.groupby(['month', 'genre_ids'])['gross_us'].median().unstack().transpose()\n",
    "# fig, axes = plt.subplots(3,4, figsize = (50, 30))\n",
    "# fig.suptitle('Median Gross Revenue for each Genre', fontsize=40)\n",
    "\n",
    "# axes[0][0].set_title('Jan')\n",
    "# axes[0][1].set_title('Feb')\n",
    "# axes[0][2].set_title('Mar')\n",
    "# axes[0][3].set_title('Apr')\n",
    "# axes[1][0].set_title('May')\n",
    "# axes[1][1].set_title('Jun')\n",
    "# axes[1][2].set_title('Jul')\n",
    "# axes[1][3].set_title('Aug')\n",
    "# axes[2][0].set_title('Sep')\n",
    "# axes[2][1].set_title('Oct')\n",
    "# axes[2][2].set_title('Nov')\n",
    "# axes[2][3].set_title('Dec')\n",
    "\n",
    "# axes[0][0].set_xlabel('Avg gross USD in mil')\n",
    "# axes[0][1].set_xlabel('Avg gross USD in mil')\n",
    "# axes[0][2].set_xlabel('Avg gross USD in mil')\n",
    "# axes[0][0].set_xlabel('Avg gross USD in mil')\n",
    "# axes[1][0].set_xlabel('Avg gross USD in mil')\n",
    "# axes[1][1].set_xlabel('Avg gross USD in mil')\n",
    "# axes[1][2].set_xlabel('Avg gross USD in mil')\n",
    "# axes[1][3].set_xlabel('Avg gross USD in mil')\n",
    "# axes[2][0].set_xlabel('Avg gross USD in mil')\n",
    "# axes[2][1].set_xlabel('Avg gross USD in mil')\n",
    "# axes[2][2].set_xlabel('Avg gross USD in mil')\n",
    "# axes[2][3].set_xlabel('Avg gross USD in mil')\n",
    "\n",
    "# axes[0][0].set_ylabel('Genre')\n",
    "# axes[0][1].set_ylabel('Genre')\n",
    "# axes[0][2].set_ylabel('Genre')\n",
    "# axes[0][3].set_ylabel('Genre')\n",
    "# axes[1][0].set_ylabel('Genre')\n",
    "# axes[1][1].set_ylabel('Genre')\n",
    "# axes[1][2].set_ylabel('Genre')\n",
    "# axes[1][3].set_ylabel('Genre')\n",
    "# axes[2][0].set_ylabel('Genre')\n",
    "# axes[2][1].set_ylabel('Genre')\n",
    "# axes[2][2].set_ylabel('Genre')\n",
    "# axes[2][3].set_ylabel('Genre')\n",
    "\n",
    "# x = month_genre_gross_median.index\n",
    "# Jan = month_genre_gross_median[1]\n",
    "# Feb = month_genre_gross_median[2]\n",
    "# Mar = month_genre_gross_median[3]\n",
    "# Apr = month_genre_gross_median[4]\n",
    "# May = month_genre_gross_median[5]\n",
    "# June = month_genre_gross_median[6]\n",
    "# July = month_genre_gross_median[7]\n",
    "# Aug = month_genre_gross_median[8]\n",
    "# Sep = month_genre_gross_median[9]\n",
    "# Oct = month_genre_gross_median[10]\n",
    "# Nov = month_genre_gross_median[11]\n",
    "# Dec = month_genre_gross_median[12]\n",
    "\n",
    "# axes[0][0].barh(x, Jan, color = 'gray')\n",
    "# axes[0][1].barh(x, Feb, color = 'red')\n",
    "# axes[0][2].barh(x, Mar, color = 'orange')\n",
    "# axes[0][3].barh(x, Apr, color = 'green')\n",
    "# axes[1][0].barh(x, May, color = 'pink')\n",
    "# axes[1][1].barh(x, June, color = 'dodgerblue')\n",
    "# axes[1][2].barh(x, July, color = 'black')\n",
    "# axes[1][3].barh(x, Aug, color = 'purple')\n",
    "# axes[2][0].barh(x, Sep, color = 'yellow')\n",
    "# axes[2][1].barh(x, Oct, color = 'lime')\n",
    "# axes[2][2].barh(x, Nov, color = 'brown')\n",
    "# axes[2][3].barh(x, Dec, color = 'silver')\n",
    "\n",
    "# plt.show()"
   ]
  },
  {
   "source": [
    "<img src=\"images/Median_Gross_Revenue.png\">\n"
   ],
   "cell_type": "markdown",
   "metadata": {}
  },
  {
   "source": [
    "## Runtime Through the Decades\n",
    "\n",
    "We wanted to make a recommendation for how long Microsoft's premier film should be.  We looked at the runtime of movies through the decades to find an ideal length."
   ],
   "cell_type": "markdown",
   "metadata": {}
  },
  {
   "cell_type": "code",
   "execution_count": null,
   "metadata": {},
   "outputs": [],
   "source": [
    "# fig = plt.figure(figsize = (20, 10)\n",
    "# g = sns.lineplot(x='year', y='runtime', ci=None, data=combo, lw=1)\n",
    "# g.set(title = 'Runtime through the Decades', \n",
    "#           ylabel = \"Runtime (minutes)\", \n",
    "#           xlabel = \"Year\")\n",
    "# plt.tight_layout()\n",
    "# fig.savefig(\"Runtime_decades.png\")\n",
    "# plt.show()\n"
   ]
  },
  {
   "source": [
    "<img src=\"images/Runtime_decades.png\">"
   ],
   "cell_type": "markdown",
   "metadata": {}
  },
  {
   "cell_type": "code",
   "execution_count": null,
   "metadata": {},
   "outputs": [],
   "source": []
  }
 ]
}